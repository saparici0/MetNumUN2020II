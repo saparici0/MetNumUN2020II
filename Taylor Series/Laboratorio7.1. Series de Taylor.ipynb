{
  "nbformat": 4,
  "nbformat_minor": 0,
  "metadata": {
    "colab": {
      "name": "Laboratorio7.1. Series de Taylor",
      "provenance": [],
      "collapsed_sections": []
    },
    "kernelspec": {
      "name": "python3",
      "display_name": "Python 3"
    }
  },
  "cells": [
    {
      "cell_type": "markdown",
      "metadata": {
        "id": "dxZpbdrHuddc"
      },
      "source": [
        "# Laboratorio 7. Series de Taylor. Loops.\n",
        "\n",
        "Nombre: Simón Aparicio Bocanegra"
      ]
    },
    {
      "cell_type": "markdown",
      "metadata": {
        "id": "FETOuUZKu5oB"
      },
      "source": [
        "En este notebook vamos a revisar como crear Series de Taylor con Python y ciclos.\n",
        "\n",
        "Una Serie de Taylor es una serie infinita de terminos matematicas que sumada aproxima una función matemática.\n",
        "\n",
        "\n",
        "Aquí tenemos una lista de funciones y las Series de Taylor que las aproximan.\n",
        "\n",
        "| FUNCIÓN MATEMÁTICA         | INICIO DE SERIE DE TAYLOR EXPANDIDA         | FORMULA SERIE DE TAYLOR |\n",
        "| :----------------------:   | :-----------------------------------------: | :--:|\n",
        "| $e^x=$                     | ${\\small 1+x}+\\frac{x^2}{2!}+\\frac{x^3}{3!}\\cdots=$ | $$ \\sum_{k=0}^{\\infty} \\frac{x^k}{k!} $$ |\n",
        "| $\\sin x=$                  | $x-\\frac{x^3}{3!}+\\frac{x^5}{5!}-\\cdots=$   | $$ \\sum_{k=0}^{\\infty} (-1)^k\\frac{x^{2k+1}}{(2k+1)!} $$ |\n",
        "| $\\cos x=$                  | $1-\\frac{x^2}{2!}+\\frac{x^4}{4!}-\\cdots=$   | $$ \\sum_{k=0}^{\\infty} (-1)^k\\frac{x^{2k}}{(2k)!} $$ |\n",
        "| $\\frac{1}{1-x}=$           | $\\small 1+x+x^2+x^3+\\cdots=$                | $$ \\sum_{k=0}^{\\infty} x^k $$ |\n",
        "| $\\ln (1+x)=$               | $x-\\frac{x^2}{2}+\\frac{x^3}{3}-\\cdots=$     | $$ \\sum_{k=1}^{\\infty} (-1)^{k-1}\\frac{x^k}{k} $$ |\n",
        "| $\\ln(x)=$                  | ${\\small (x-1)}-\\frac{(x-1)^2}{2}+\\frac{(x-1)^3}{3}-\\cdots=$ | $$ \\sum_{k=1}^{\\infty} (-1)^{k-1}\\frac{(x-1)^k}{k} $$ |\n"
      ]
    },
    {
      "cell_type": "markdown",
      "metadata": {
        "id": "CFrIGFZQ9ESe"
      },
      "source": [
        "## $e^x$"
      ]
    },
    {
      "cell_type": "markdown",
      "metadata": {
        "id": "TgrAfpJgAiD8"
      },
      "source": [
        "Supongamos que queramos calcular el valor de $e^2$ utilizando series de taylor.\n",
        "\n",
        "Incialmente podemos hallar sumar los terminos de la serie de taylor."
      ]
    },
    {
      "cell_type": "code",
      "metadata": {
        "id": "4AYmgJndAhhx",
        "colab": {
          "base_uri": "https://localhost:8080/"
        },
        "outputId": "11614ca6-8476-491a-e9e3-b50178ca5549"
      },
      "source": [
        "import math\n",
        "\n",
        "x = 2\n",
        "e_to_2 = x**0/math.factorial(0) + x**1/math.factorial(1) + x**2/math.factorial(2) + x**3/math.factorial(3) + x**4/math.factorial(4)\n",
        "print(e_to_2)"
      ],
      "execution_count": null,
      "outputs": [
        {
          "output_type": "stream",
          "text": [
            "7.0\n"
          ],
          "name": "stdout"
        }
      ]
    },
    {
      "cell_type": "markdown",
      "metadata": {
        "id": "OrxoSRT4A7zm"
      },
      "source": [
        "Comparandola con el valor real utilizando la función `math.exp()` obtenemos:"
      ]
    },
    {
      "cell_type": "code",
      "metadata": {
        "id": "t6epEm5e837S",
        "colab": {
          "base_uri": "https://localhost:8080/"
        },
        "outputId": "1deb6b0d-7311-446b-ba1c-d3cbb34d5f60"
      },
      "source": [
        "print(math.exp(2))"
      ],
      "execution_count": null,
      "outputs": [
        {
          "output_type": "stream",
          "text": [
            "7.38905609893065\n"
          ],
          "name": "stdout"
        }
      ]
    },
    {
      "cell_type": "markdown",
      "metadata": {
        "id": "Igkg04rSBZbJ"
      },
      "source": [
        "Podemos lograr mayor precisión si agregamos mas terminos a la serie, pero agregar terminos individualmente es repetitivo y demorado. Un ciclo nos permitiria realizar esta operación de manera más sencilla."
      ]
    },
    {
      "cell_type": "code",
      "metadata": {
        "id": "ohlee4pVBywR",
        "colab": {
          "base_uri": "https://localhost:8080/"
        },
        "outputId": "d89e9696-65a4-42b6-aef7-1b03cb093482"
      },
      "source": [
        "x = 2\n",
        "e_to_2 = 0\n",
        "for i in range(5):\n",
        "    e_to_2 += x**i/math.factorial(i)\n",
        "    \n",
        "print(e_to_2)"
      ],
      "execution_count": null,
      "outputs": [
        {
          "output_type": "stream",
          "text": [
            "7.0\n"
          ],
          "name": "stdout"
        }
      ]
    },
    {
      "cell_type": "markdown",
      "metadata": {
        "id": "1am05o2OB7_z"
      },
      "source": [
        "El resultado obtenido es el mismo que habiamos hallado antes, podemos ahora agregar mas terminos iterando un mayor número de veces."
      ]
    },
    {
      "cell_type": "code",
      "metadata": {
        "id": "fIwR6bpJB4Kz",
        "colab": {
          "base_uri": "https://localhost:8080/"
        },
        "outputId": "7a4efebd-1b15-44f3-df39-e0a78be16a99"
      },
      "source": [
        "x = 2\n",
        "e_to_2 = 0\n",
        "for i in range(10):\n",
        "    e_to_2 += x**i/math.factorial(i)\n",
        "    \n",
        "print(e_to_2)"
      ],
      "execution_count": null,
      "outputs": [
        {
          "output_type": "stream",
          "text": [
            "7.3887125220458545\n"
          ],
          "name": "stdout"
        }
      ]
    },
    {
      "cell_type": "markdown",
      "metadata": {
        "id": "pwx0IWbnEXjf"
      },
      "source": [
        "Vemos que obtenemos al 3 cifras significativas correctas con 10 iteraciones.\n",
        "\n",
        "La siguiente mejora seria generalizar este procedimiento en una función que no pueda recibir un $n$ (número de iteraciones) sino tambien el valor $x$ sobre el cual queremos calcular $e^x$"
      ]
    },
    {
      "cell_type": "code",
      "metadata": {
        "id": "99lUNGnsEXH6"
      },
      "source": [
        "def func_e(x, n):\n",
        "    e_approx = 0\n",
        "    for i in range(n):\n",
        "        e_approx += x**i/math.factorial(i)\n",
        "    \n",
        "    return e_approx"
      ],
      "execution_count": null,
      "outputs": []
    },
    {
      "cell_type": "markdown",
      "metadata": {
        "id": "L7gYfhlCGFYE"
      },
      "source": [
        "Calculemos ahora $e^2$ y $e^5$ con 10 y 15 iteraciones y comparemos estos valores con la función `math.exp()`."
      ]
    },
    {
      "cell_type": "code",
      "metadata": {
        "id": "gsc8UBjqGEqp",
        "colab": {
          "base_uri": "https://localhost:8080/"
        },
        "outputId": "46b56643-3d24-477c-f042-a7de3a87964d"
      },
      "source": [
        "print('func\\t','10 iter.\\t\\t','15 iter.\\t\\t','math.exp()')\n",
        "print('e^2\\t',func_e(2,10),'\\t',func_e(2,15),'\\t',math.exp(2))\n",
        "print('e^5\\t',func_e(5,10),'\\t',func_e(5,15),'\\t',math.exp(5))"
      ],
      "execution_count": null,
      "outputs": [
        {
          "output_type": "stream",
          "text": [
            "func\t 10 iter.\t\t 15 iter.\t\t math.exp()\n",
            "e^2\t 7.3887125220458545 \t 7.3890560703259105 \t 7.38905609893065\n",
            "e^5\t 143.68945656966488 \t 148.37958007973663 \t 148.4131591025766\n"
          ],
          "name": "stdout"
        }
      ]
    },
    {
      "cell_type": "markdown",
      "metadata": {
        "id": "qY1NbuvzHwZc"
      },
      "source": [
        "Observamos que con un mayor número de iteraciones obtenemos mayor presición."
      ]
    },
    {
      "cell_type": "markdown",
      "metadata": {
        "id": "NG6oA7VfKXmA"
      },
      "source": [
        "Podemos tambien utilizar una un ciclo para calcular la diferencia entre la expansión de la Serie de Taylor y el cálculo de la función `exp()` en Python. "
      ]
    },
    {
      "cell_type": "code",
      "metadata": {
        "id": "zJvveiNKHvoW",
        "colab": {
          "base_uri": "https://localhost:8080/"
        },
        "outputId": "82f01207-dc29-46f3-ac1c-cda144e3eade"
      },
      "source": [
        "x = 5\n",
        "for i in range(1,11):\n",
        "    e_approx = func_e(x,i)\n",
        "    e_exp = math.exp(x)\n",
        "    e_error = abs(e_approx - e_exp)\n",
        "    print(f'{i} terms: Taylor Series approx= {e_approx}, exp calc= {e_exp}, error = {e_error}')"
      ],
      "execution_count": null,
      "outputs": [
        {
          "output_type": "stream",
          "text": [
            "1 terms: Taylor Series approx= 1.0, exp calc= 148.4131591025766, error = 147.4131591025766\n",
            "2 terms: Taylor Series approx= 6.0, exp calc= 148.4131591025766, error = 142.4131591025766\n",
            "3 terms: Taylor Series approx= 18.5, exp calc= 148.4131591025766, error = 129.9131591025766\n",
            "4 terms: Taylor Series approx= 39.33333333333333, exp calc= 148.4131591025766, error = 109.07982576924327\n",
            "5 terms: Taylor Series approx= 65.375, exp calc= 148.4131591025766, error = 83.0381591025766\n",
            "6 terms: Taylor Series approx= 91.41666666666667, exp calc= 148.4131591025766, error = 56.99649243590993\n",
            "7 terms: Taylor Series approx= 113.11805555555556, exp calc= 148.4131591025766, error = 35.29510354702104\n",
            "8 terms: Taylor Series approx= 128.61904761904762, exp calc= 148.4131591025766, error = 19.79411148352898\n",
            "9 terms: Taylor Series approx= 138.30716765873015, exp calc= 148.4131591025766, error = 10.105991443846449\n",
            "10 terms: Taylor Series approx= 143.68945656966488, exp calc= 148.4131591025766, error = 4.723702532911716\n"
          ],
          "name": "stdout"
        }
      ]
    },
    {
      "cell_type": "markdown",
      "metadata": {
        "id": "8C_QGsw0LPk0"
      },
      "source": [
        "Vemos que el error disminuye bastante rapido a medida que vamos agregando terminos. Podemos tambien intentar buscar un error máximo e iterar hasta lograr reducir el error al nivel deseado."
      ]
    },
    {
      "cell_type": "code",
      "metadata": {
        "id": "6iJM7HaSLO1l",
        "colab": {
          "base_uri": "https://localhost:8080/"
        },
        "outputId": "c3f3afad-b457-438f-b9f7-0a3639ecf339"
      },
      "source": [
        "x = 5\n",
        "e_exp = math.exp(x)\n",
        "for i in range(1,100):\n",
        "    e_approx = func_e(x,i)\n",
        "    e_error = abs(e_approx - e_exp)\n",
        "    if e_error < 1e-4:\n",
        "        break\n",
        "        \n",
        "print(f'{i} terms: Taylor Series approx= {e_approx}, exp calc= {e_exp}, error = {e_error}')"
      ],
      "execution_count": null,
      "outputs": [
        {
          "output_type": "stream",
          "text": [
            "20 terms: Taylor Series approx= 148.4131078683383, exp calc= 148.4131591025766, error = 5.1234238299002755e-05\n"
          ],
          "name": "stdout"
        }
      ]
    },
    {
      "cell_type": "markdown",
      "metadata": {
        "id": "JB4Dq-FojDj4"
      },
      "source": [
        "Para la serie de Taylor para $f(x) = e^x$ sobre $c=0$ (Maclaurin) \n",
        "\n",
        "$$ E_n = \\frac{f^{(n)}(\\xi)}{n!}(x-c)^{n} = \\frac{e^\\xi}{n!}x^{n} \\le  \\frac{e^x}{n!}x^{n}, $$\n",
        "\n",
        "dado que si queremos $E_n \\le \\epsilon$ necesitamos un $n$ que cumpla: \n",
        "\n",
        "$$ \\frac{e^x}{n!}x^{n} < \\epsilon$$ \n",
        "\n",
        "porque $e^x \\ge e^\\xi$, para  $0 \\le \\xi \\le x$."
      ]
    },
    {
      "cell_type": "markdown",
      "metadata": {
        "id": "gCDYYVRiOrQ-"
      },
      "source": [
        "Es interesante analizar la diferencia entre la función aproximada con 3 terminos y la función teorica."
      ]
    },
    {
      "cell_type": "code",
      "metadata": {
        "id": "n2gUpIVFHtkk",
        "colab": {
          "base_uri": "https://localhost:8080/",
          "height": 269
        },
        "outputId": "b5149534-63f2-4646-db36-baec2b3c4e56"
      },
      "source": [
        "import math\n",
        "import numpy as np\n",
        "import matplotlib.pyplot as plt\n",
        "# if using a Jupyter notebook, include:\n",
        "%matplotlib inline\n",
        "\n",
        "values = np.arange(-5,5,0.1)\n",
        "p_exp = np.exp(values)\n",
        "t_exp = [func_e(value,3) for value in values]\n",
        "\n",
        "fig, ax = plt.subplots()\n",
        "ax.plot(values,p_exp)\n",
        "ax.plot(values,t_exp)\n",
        "ax.set_ylim([-1,14])\n",
        "ax.legend(['exp() function','Taylor Series - 3 terms'])\n",
        "\n",
        "plt.show()"
      ],
      "execution_count": null,
      "outputs": [
        {
          "output_type": "display_data",
          "data": {
            "image/png": "[encoded data removed]",
            "text/plain": [
              "<Figure size 432x288 with 1 Axes>"
            ]
          },
          "metadata": {
            "tags": [],
            "needs_background": "light"
          }
        }
      ]
    },
    {
      "cell_type": "markdown",
      "metadata": {
        "id": "0uNGltWSPWwB"
      },
      "source": [
        "Observamos que la función aproximada se acerca a la función teorica alrededor de 0 y el error aumenta para los valores alejados, 3 terminos nos dan un rango de valores con error bajo muy pequeño. Podemos ahora comparar la función teórica con la aproximada con un número mayor de terminos en la serie."
      ]
    },
    {
      "cell_type": "code",
      "metadata": {
        "id": "w5rxTd_fPWEW",
        "colab": {
          "base_uri": "https://localhost:8080/",
          "height": 269
        },
        "outputId": "96b5a2f5-8586-4cb1-dff5-532d08782b70"
      },
      "source": [
        "values = np.arange(-5,5,0.1)\n",
        "p_exp = np.exp(values)\n",
        "\n",
        "fig, ax = plt.subplots()\n",
        "ax.plot(values,p_exp)\n",
        "\n",
        "# add lines for between 1 and 6 terms in the Taylor Series\n",
        "for i in range(1,6):\n",
        "    t_exp = [func_e(value,i) for value in values]\n",
        "    ax.plot(values,t_exp)\n",
        "\n",
        "ax.set_ylim([-1,14])\n",
        "\n",
        "# set up legend\n",
        "legend_lst = ['exp() function']\n",
        "for i in range(1,6):\n",
        "    legend_lst.append(f'Taylor Series - {i} terms')\n",
        "ax.legend(legend_lst, loc=2)\n",
        "\n",
        "plt.show()"
      ],
      "execution_count": null,
      "outputs": [
        {
          "output_type": "display_data",
          "data": {
            "image/png": "[encoded data removed]",
            "text/plain": [
              "<Figure size 432x288 with 1 Axes>"
            ]
          },
          "metadata": {
            "tags": [],
            "needs_background": "light"
          }
        }
      ]
    },
    {
      "cell_type": "markdown",
      "metadata": {
        "id": "9NDQcZ8rdoeq"
      },
      "source": [
        "## $\\sin x$"
      ]
    },
    {
      "cell_type": "markdown",
      "metadata": {
        "id": "etFVWUPXdoe_"
      },
      "source": [
        "Creamos una función que retorna el valor aproximado de la función ***sin*** para un valor x utilizando n terminos de la Serie de Taylor."
      ]
    },
    {
      "cell_type": "code",
      "metadata": {
        "id": "sWmBI0KUdofF"
      },
      "source": [
        "def func_sin(x, n):\n",
        "    sin_approx = 0\n",
        "    for i in range(n):\n",
        "        sin_approx += (-1)**i*x**(2*i+1)/math.factorial(2*i+1)\n",
        "    \n",
        "    return sin_approx"
      ],
      "execution_count": null,
      "outputs": []
    },
    {
      "cell_type": "code",
      "metadata": {
        "id": "BjQAPcjSdofT",
        "colab": {
          "base_uri": "https://localhost:8080/"
        },
        "outputId": "58a0df3e-2947-4d25-da69-03bdafb6fbf4"
      },
      "source": [
        "x = math.pi/2\n",
        "for i in range(1,11):\n",
        "    sin_approx = func_sin(x,i)\n",
        "    sin_exp = math.sin(x)\n",
        "    sin_error = abs(sin_approx - sin_exp)\n",
        "    print(f'{i} terms: Taylor Series approx= {sin_approx}, exp calc= {sin_exp}, error = {sin_error}')"
      ],
      "execution_count": null,
      "outputs": [
        {
          "output_type": "stream",
          "text": [
            "1 terms: Taylor Series approx= 1.5707963267948966, exp calc= 1.0, error = 0.5707963267948966\n",
            "2 terms: Taylor Series approx= 0.9248322292886504, exp calc= 1.0, error = 0.07516777071134961\n",
            "3 terms: Taylor Series approx= 1.0045248555348174, exp calc= 1.0, error = 0.004524855534817407\n",
            "4 terms: Taylor Series approx= 0.9998431013994987, exp calc= 1.0, error = 0.00015689860050127624\n",
            "5 terms: Taylor Series approx= 1.0000035425842861, exp calc= 1.0, error = 3.542584286142514e-06\n",
            "6 terms: Taylor Series approx= 0.999999943741051, exp calc= 1.0, error = 5.625894905492146e-08\n",
            "7 terms: Taylor Series approx= 1.0000000006627803, exp calc= 1.0, error = 6.627802751069112e-10\n",
            "8 terms: Taylor Series approx= 0.9999999999939768, exp calc= 1.0, error = 6.023181953196399e-12\n",
            "9 terms: Taylor Series approx= 1.0000000000000437, exp calc= 1.0, error = 4.374278717023117e-14\n",
            "10 terms: Taylor Series approx= 1.0, exp calc= 1.0, error = 0.0\n"
          ],
          "name": "stdout"
        }
      ]
    },
    {
      "cell_type": "markdown",
      "metadata": {
        "id": "SPJ01bELdofc"
      },
      "source": [
        "Vemos que el error disminuye bastante rapido a medida que vamos agregando terminos. Podemos tambien intentar buscar un error máximo e iterar hasta lograr reducir el error al nivel deseado."
      ]
    },
    {
      "cell_type": "code",
      "metadata": {
        "colab": {
          "base_uri": "https://localhost:8080/"
        },
        "id": "z9Rm-ArqpUlX",
        "outputId": "c3f3afad-b457-438f-b9f7-0a3639ecf339"
      },
      "source": [
        "x = math.pi\n",
        "sin_exp = math.sin(x)\n",
        "for i in range(1,100):\n",
        "    sin_approx = func_sin(x,i)\n",
        "    sin_error = abs(sin_approx - sin_exp)\n",
        "    if sin_error < 1e-4:\n",
        "        break\n",
        "        \n",
        "print(f'{i} terms: Taylor Series approx= {sin_approx}, exp calc= {sin_exp}, error = {sin_error}')"
      ],
      "execution_count": null,
      "outputs": [
        {
          "output_type": "stream",
          "text": [
            "20 terms: Taylor Series approx= 148.4131078683383, exp calc= 148.4131591025766, error = 5.1234238299002755e-05\n"
          ],
          "name": "stdout"
        }
      ]
    },
    {
      "cell_type": "markdown",
      "metadata": {
        "id": "piPpKeD3pUlc"
      },
      "source": [
        "Para la serie de Taylor para $f(x) = \\sin x$ sobre $c=0$ (Maclaurin) \n",
        "\n",
        "$$ E_n = \\left\\lvert \\frac{f^{(n)}(\\xi)}{n!}(x-c)^{n} \\right\\rvert = \\left\\lvert \\frac{(-1)^{\\frac{n-1}{2}}\\cos\\xi}{n!}x^{n} \\right\\rvert \\le \\left\\lvert \\frac{(-1)^{\\frac{n-1}{2}}\\cos x}{n!}x^{n} \\right\\rvert ,\\text{para un $n$ impar} $$\n",
        "\n",
        "dado que si queremos $E_n \\le \\epsilon$ necesitamos un $n$ que cumpla: \n",
        "\n",
        "$$ \\left\\lvert\\frac{(-1)^{\\frac{n-1}{2}}\\cos x}{n!}x^{n} \\right\\rvert < \\epsilon$$ \n",
        "\n",
        "porque $e^x \\ge e^\\xi$, para  $0 \\le \\xi \\le x$."
      ]
    },
    {
      "cell_type": "markdown",
      "metadata": {
        "id": "a1iCdcpYdofk"
      },
      "source": [
        "Podemos ahora comparar la función teórica con la aproximada con un número mayor de terminos en la serie."
      ]
    },
    {
      "cell_type": "code",
      "metadata": {
        "id": "ni8e0R1ydofm",
        "colab": {
          "base_uri": "https://localhost:8080/",
          "height": 269
        },
        "outputId": "f6777130-fe34-47bf-abcb-7c21160eb85f"
      },
      "source": [
        "values = np.arange(-5,5,0.1)\n",
        "teo_vals = np.sin(values)\n",
        "\n",
        "fig, ax = plt.subplots()\n",
        "ax.plot(values,teo_vals)\n",
        "\n",
        "# add lines for between 1 and 6 terms in the Taylor Series\n",
        "for i in range(1,8):\n",
        "    aprox_vals = [func_sin(value,i) for value in values]\n",
        "    ax.plot(values,aprox_vals)\n",
        "\n",
        "ax.set_ylim([-1.5,1.5])\n",
        "\n",
        "# set up legend\n",
        "legend_lst = ['sin() function']\n",
        "for i in range(1,8):\n",
        "    legend_lst.append(f'{i} terms')\n",
        "ax.legend(legend_lst, loc=2)\n",
        "\n",
        "plt.show()"
      ],
      "execution_count": null,
      "outputs": [
        {
          "output_type": "display_data",
          "data": {
            "image/png": "[encoded data removed]",
            "text/plain": [
              "<Figure size 432x288 with 1 Axes>"
            ]
          },
          "metadata": {
            "tags": [],
            "needs_background": "light"
          }
        }
      ]
    },
    {
      "cell_type": "markdown",
      "metadata": {
        "id": "HxvkYY5gSucq"
      },
      "source": [
        "## $\\cos x$"
      ]
    },
    {
      "cell_type": "markdown",
      "metadata": {
        "id": "MffFHPC2S3vW"
      },
      "source": [
        "Creamos una función que retorna el valor aproximado de la función ***cos*** para un valor x utilizando n terminos de la Serie de Taylor."
      ]
    },
    {
      "cell_type": "code",
      "metadata": {
        "id": "Ynt1G9CxS3ve"
      },
      "source": [
        "def func_cos(x, n):\n",
        "    cos_approx = 0\n",
        "    for i in range(n):\n",
        "        cos_approx += (-1)**i*x**(2*i)/math.factorial(2*i)\n",
        "    \n",
        "    return cos_approx"
      ],
      "execution_count": null,
      "outputs": []
    },
    {
      "cell_type": "code",
      "metadata": {
        "id": "GGUDmlE5S3v0",
        "colab": {
          "base_uri": "https://localhost:8080/"
        },
        "outputId": "b4c2dd58-ac51-444f-e012-05fae2b307d6"
      },
      "source": [
        "x = math.pi/2\n",
        "for i in range(1,11):\n",
        "    cos_approx = func_cos(x,i)\n",
        "    cos_exp = math.cos(x)\n",
        "    cos_error = abs(cos_approx - cos_exp)\n",
        "    print(f'{i} terms: Taylor Series approx= {cos_approx}, exp calc= {cos_exp}, error = {cos_error}')"
      ],
      "execution_count": null,
      "outputs": [
        {
          "output_type": "stream",
          "text": [
            "1 terms: Taylor Series approx= 1.0, exp calc= 6.123233995736766e-17, error = 0.9999999999999999\n",
            "2 terms: Taylor Series approx= -0.23370055013616975, exp calc= 6.123233995736766e-17, error = 0.2337005501361698\n",
            "3 terms: Taylor Series approx= 0.019968957764878226, exp calc= 6.123233995736766e-17, error = 0.019968957764878163\n",
            "4 terms: Taylor Series approx= -0.0008945229984747317, exp calc= 6.123233995736766e-17, error = 0.000894522998474793\n",
            "5 terms: Taylor Series approx= 2.473727636469452e-05, exp calc= 6.123233995736766e-17, error = 2.4737276364633286e-05\n",
            "6 terms: Taylor Series approx= -4.6476600836607633e-07, exp calc= 6.123233995736766e-17, error = 4.6476600842730866e-07\n",
            "7 terms: Taylor Series approx= 6.321469515740575e-09, exp calc= 6.123233995736766e-17, error = 6.321469454508235e-09\n",
            "8 terms: Taylor Series approx= -6.513356805127347e-11, exp calc= 6.123233995736766e-17, error = 6.513362928361342e-11\n",
            "9 terms: Taylor Series approx= 5.260630985212103e-13, exp calc= 6.123233995736766e-17, error = 5.26001866181253e-13\n",
            "10 terms: Taylor Series approx= -3.3769215522516056e-15, exp calc= 6.123233995736766e-17, error = 3.438153892208973e-15\n"
          ],
          "name": "stdout"
        }
      ]
    },
    {
      "cell_type": "markdown",
      "metadata": {
        "id": "86A1F2ICS3v-"
      },
      "source": [
        "Vemos que el error disminuye bastante rapido a medida que vamos agregando terminos. Podemos tambien intentar buscar un error máximo e iterar hasta lograr reducir el error al nivel deseado."
      ]
    },
    {
      "cell_type": "code",
      "metadata": {
        "colab": {
          "base_uri": "https://localhost:8080/"
        },
        "id": "ZrF-VeL2wV_d",
        "outputId": "c3f3afad-b457-438f-b9f7-0a3639ecf339"
      },
      "source": [
        "x = math.pi/2\n",
        "cos_exp = math.cos(x)\n",
        "for i in range(1,100):\n",
        "    cos_approx = func_cos(x,i)\n",
        "    cos_error = abs(cos_approx - cos_exp)\n",
        "    if cos_error < 1e-4:\n",
        "        break\n",
        "        \n",
        "print(f'{i} terms: Taylor Series approx= {cos_approx}, exp calc= {cos_exp}, error = {cos_error}')"
      ],
      "execution_count": null,
      "outputs": [
        {
          "output_type": "stream",
          "text": [
            "20 terms: Taylor Series approx= 148.4131078683383, exp calc= 148.4131591025766, error = 5.1234238299002755e-05\n"
          ],
          "name": "stdout"
        }
      ]
    },
    {
      "cell_type": "markdown",
      "metadata": {
        "id": "zK7rDmfI0ORR"
      },
      "source": [
        "Para la serie de Taylor para $f(x) = \\sin x$ sobre $c=0$ (Maclaurin) \n",
        "\n",
        "$$ E_n = \\frac{f^{(n)}(\\xi)}{n!}(x-c)^{n} = \\frac{(-1)^{\\frac{n}{2}}\\cos\\xi}{n!}x^{n} \\le  \\frac{(-1)^{\\frac{n}{2}}\\cos x}{n!}x^{n},\\text{para un $n$ par} $$\n",
        "\n",
        "dado que si queremos $E_n \\le \\epsilon$ necesitamos un $n$ que cumpla: \n",
        "\n",
        "$$ \\frac{(-1)^{\\frac{n}{2}}\\cos x}{n!}x^{n} < \\epsilon$$ \n",
        "\n",
        "porque $e^x \\ge e^\\xi$, para  $0 \\le \\xi \\le x$."
      ]
    },
    {
      "cell_type": "markdown",
      "metadata": {
        "id": "QIdSdvseWbzS"
      },
      "source": [
        "Para la serie de Taylor para $f(x) = \\cos x$ sobre $c=0$ (Maclaurin) \n",
        "\n",
        "$$ E_n = \\left\\lvert \\frac{f^{(n)}(\\xi)}{n!}(x-c)^{n} \\right\\rvert = \\left\\lvert \\frac{(-1)^{\\frac{n}{2}}\\cos\\xi}{n!}x^{n} \\right\\rvert \\le \\left\\lvert \\frac{(-1)^{\\frac{n}{2}}\\cos x}{n!}x^{n} \\right\\rvert ,\\text{para un $n$ par} $$\n",
        "\n",
        "dado que si queremos $E_n \\le \\epsilon$ necesitamos un $n$ que cumpla: \n",
        "\n",
        "$$ \\left\\lvert\\frac{(-1)^{\\frac{n}{2}}\\cos x}{n!}x^{n} \\right\\rvert < \\epsilon$$ \n",
        "\n",
        "porque $e^x \\ge e^\\xi$, para  $0 \\le \\xi \\le x$."
      ]
    },
    {
      "cell_type": "markdown",
      "metadata": {
        "id": "-kRUGq8PS3wF"
      },
      "source": [
        "Podemos ahora comparar la función teórica con la aproximada con un número mayor de terminos en la serie."
      ]
    },
    {
      "cell_type": "code",
      "metadata": {
        "id": "4oWADXkgS3wG",
        "colab": {
          "base_uri": "https://localhost:8080/",
          "height": 269
        },
        "outputId": "2378cafb-af35-4c40-8c30-f8c2acdf5340"
      },
      "source": [
        "values = np.arange(-5,5,0.1)\n",
        "teo_vals = np.cos(values)\n",
        "\n",
        "fig, ax = plt.subplots()\n",
        "ax.plot(values,teo_vals)\n",
        "\n",
        "# add lines for between 1 and 6 terms in the Taylor Series\n",
        "for i in range(1,8):\n",
        "    aprox_vals = [func_cos(value,i) for value in values]\n",
        "    ax.plot(values,aprox_vals)\n",
        "\n",
        "ax.set_ylim([-1.5,1.5])\n",
        "\n",
        "# set up legend\n",
        "legend_lst = ['cos() function']\n",
        "for i in range(1,8):\n",
        "    legend_lst.append(f'{i} terms')\n",
        "ax.legend(legend_lst, loc=2)\n",
        "\n",
        "plt.show()"
      ],
      "execution_count": null,
      "outputs": [
        {
          "output_type": "display_data",
          "data": {
            "image/png": "[encoded data removed]",
            "text/plain": [
              "<Figure size 432x288 with 1 Axes>"
            ]
          },
          "metadata": {
            "tags": [],
            "needs_background": "light"
          }
        }
      ]
    },
    {
      "cell_type": "markdown",
      "metadata": {
        "id": "OWbpHTQufFva"
      },
      "source": [
        "## $\\frac{1}{1-x}$"
      ]
    },
    {
      "cell_type": "markdown",
      "metadata": {
        "id": "Rs3P5XqMfFvf"
      },
      "source": [
        "Creamos una función que retorna el valor aproximado de la función ***1/(1-x)*** para un valor x utilizando n terminos de la Serie de Taylor."
      ]
    },
    {
      "cell_type": "code",
      "metadata": {
        "id": "J8cHVX52fFvj"
      },
      "source": [
        "def func_f1(x, n):\n",
        "    f1_approx = 0\n",
        "    for i in range(n):\n",
        "        f1_approx += x**i\n",
        "    \n",
        "    return f1_approx"
      ],
      "execution_count": null,
      "outputs": []
    },
    {
      "cell_type": "code",
      "metadata": {
        "id": "kNjCqLEYfFvx",
        "colab": {
          "base_uri": "https://localhost:8080/"
        },
        "outputId": "7d2d2a6f-f8fb-429a-9f54-37134e49c966"
      },
      "source": [
        "x = 0.5\n",
        "for i in range(1,11):\n",
        "    f1_approx = func_f1(x,i)\n",
        "    f1_exp = 1/(1-x)\n",
        "    f1_error = abs(f1_approx - f1_exp)\n",
        "    print(f'{i} terms: Taylor Series approx= {f1_approx}, exp calc= {f1_exp}, error = {f1_error}')"
      ],
      "execution_count": null,
      "outputs": [
        {
          "output_type": "stream",
          "text": [
            "1 terms: Taylor Series approx= 1.0, exp calc= 2.0, error = 1.0\n",
            "2 terms: Taylor Series approx= 1.5, exp calc= 2.0, error = 0.5\n",
            "3 terms: Taylor Series approx= 1.75, exp calc= 2.0, error = 0.25\n",
            "4 terms: Taylor Series approx= 1.875, exp calc= 2.0, error = 0.125\n",
            "5 terms: Taylor Series approx= 1.9375, exp calc= 2.0, error = 0.0625\n",
            "6 terms: Taylor Series approx= 1.96875, exp calc= 2.0, error = 0.03125\n",
            "7 terms: Taylor Series approx= 1.984375, exp calc= 2.0, error = 0.015625\n",
            "8 terms: Taylor Series approx= 1.9921875, exp calc= 2.0, error = 0.0078125\n",
            "9 terms: Taylor Series approx= 1.99609375, exp calc= 2.0, error = 0.00390625\n",
            "10 terms: Taylor Series approx= 1.998046875, exp calc= 2.0, error = 0.001953125\n"
          ],
          "name": "stdout"
        }
      ]
    },
    {
      "cell_type": "markdown",
      "metadata": {
        "id": "dCaBpcF9fFv8"
      },
      "source": [
        "Vemos que el error disminuye bastante rapido a medida que vamos agregando terminos. Podemos tambien intentar buscar un error máximo e iterar hasta lograr reducir el error al nivel deseado."
      ]
    },
    {
      "cell_type": "code",
      "metadata": {
        "id": "jMOeahJwfFv9",
        "colab": {
          "base_uri": "https://localhost:8080/"
        },
        "outputId": "da08399e-646b-4ec7-f3af-2b091cca88fc"
      },
      "source": [
        "x = 0.5\n",
        "f1_exp = 1/(1-x)\n",
        "for i in range(1,100):\n",
        "    f1_approx = func_f1(x,i)\n",
        "    f1_error = abs(f1_approx - f1_exp)\n",
        "    if f1_error < 1e-4:\n",
        "        break\n",
        "        \n",
        "print(f'{i} terms: Taylor Series approx= {f1_approx}, exp calc= {f1_exp}, error = {f1_error}')"
      ],
      "execution_count": null,
      "outputs": [
        {
          "output_type": "stream",
          "text": [
            "15 terms: Taylor Series approx= 1.99993896484375, exp calc= 2.0, error = 6.103515625e-05\n"
          ],
          "name": "stdout"
        }
      ]
    },
    {
      "cell_type": "markdown",
      "metadata": {
        "id": "7gDWdXV41bVT"
      },
      "source": [
        "Para la serie de Taylor para $f(x) = \\frac{1}{1-x}$ sobre $c=0$ (Maclaurin) \n",
        "\n",
        "$$ E_n = \\frac{f^{(n)}(\\xi)}{n!}(x-c)^{n} = \\frac{n!}{n!(1-\\xi)^n}x^{n} = \\frac{1}{(1-\\xi)^n}x^{n} \\le  \\frac{1}{(1-x)^n}x^{n},$$\n",
        "\n",
        "dado que si queremos $E_n \\le \\epsilon$ necesitamos un $n$ que cumpla: \n",
        "\n",
        "$$ \\frac{1}{(1-x)^n}x^{n} < \\epsilon$$ \n",
        "\n",
        "porque $e^x \\ge e^\\xi$, para  $0 \\le \\xi \\le x$."
      ]
    },
    {
      "cell_type": "markdown",
      "metadata": {
        "id": "dbFZdUGlfFwD"
      },
      "source": [
        "Podemos ahora comparar la función teórica con la aproximada con un número mayor de terminos en la serie."
      ]
    },
    {
      "cell_type": "code",
      "metadata": {
        "id": "8mdqGd--fFwF",
        "colab": {
          "base_uri": "https://localhost:8080/",
          "height": 269
        },
        "outputId": "a4ca76ba-52df-4b99-88bd-298870a50103"
      },
      "source": [
        "%matplotlib inline\n",
        "\n",
        "values = np.arange(-0.9,0.9,0.05)\n",
        "teo_vals = 1/(1-values)\n",
        "\n",
        "fig, ax = plt.subplots()\n",
        "ax.plot(values,teo_vals)\n",
        "\n",
        "# add lines for between 1 and 6 terms in the Taylor Series\n",
        "for i in range(1,8):\n",
        "    aprox_vals = [func_f1(value,i) for value in values]\n",
        "    ax.plot(values,aprox_vals)\n",
        "\n",
        "ax.set_ylim([-1,5])\n",
        "\n",
        "# set up legend\n",
        "legend_lst = ['1/(1-x) function']\n",
        "for i in range(1,8):\n",
        "    legend_lst.append(f'{i} terms')\n",
        "ax.legend(legend_lst, loc=2)\n",
        "\n",
        "plt.show()"
      ],
      "execution_count": null,
      "outputs": [
        {
          "output_type": "display_data",
          "data": {
            "image/png": "[encoded data removed]",
            "text/plain": [
              "<Figure size 432x288 with 1 Axes>"
            ]
          },
          "metadata": {
            "tags": [],
            "needs_background": "light"
          }
        }
      ]
    },
    {
      "cell_type": "markdown",
      "metadata": {
        "id": "ld0MR4AAmno1"
      },
      "source": [
        "## $\\ln(1+x)$"
      ]
    },
    {
      "cell_type": "markdown",
      "metadata": {
        "id": "9h57_sC3mno6"
      },
      "source": [
        "Creamos una función que retorna el valor aproximado de la función ***ln(x+1)*** para un valor x utilizando n terminos de la Serie de Taylor."
      ]
    },
    {
      "cell_type": "code",
      "metadata": {
        "id": "wQukDFmpmno_"
      },
      "source": [
        "def func_ln1(x, n):\n",
        "    ln1_approx = 0\n",
        "    for i in range(1,n):\n",
        "        ln1_approx += (-1)**(i-1)*x**i/i\n",
        "    \n",
        "    return ln1_approx"
      ],
      "execution_count": null,
      "outputs": []
    },
    {
      "cell_type": "code",
      "metadata": {
        "id": "8W0duIyHmnpP",
        "colab": {
          "base_uri": "https://localhost:8080/"
        },
        "outputId": "b7e1b950-49b2-484d-a912-f69ff5355219"
      },
      "source": [
        "x = 0.5\n",
        "for i in range(1,11):\n",
        "    ln1_approx = func_ln1(x,i)\n",
        "    ln1_exp = math.log1p(x)\n",
        "    ln1_error = abs(ln1_approx - ln1_exp)\n",
        "    print(f'{i} terms: Taylor Series approx= {ln1_approx}, exp calc= {ln1_exp}, error = {ln1_error}')"
      ],
      "execution_count": null,
      "outputs": [
        {
          "output_type": "stream",
          "text": [
            "1 terms: Taylor Series approx= 0, exp calc= 0.4054651081081644, error = 0.4054651081081644\n",
            "2 terms: Taylor Series approx= 0.5, exp calc= 0.4054651081081644, error = 0.09453489189183562\n",
            "3 terms: Taylor Series approx= 0.375, exp calc= 0.4054651081081644, error = 0.030465108108164385\n",
            "4 terms: Taylor Series approx= 0.4166666666666667, exp calc= 0.4054651081081644, error = 0.0112015585585023\n",
            "5 terms: Taylor Series approx= 0.4010416666666667, exp calc= 0.4054651081081644, error = 0.0044234414414977\n",
            "6 terms: Taylor Series approx= 0.40729166666666666, exp calc= 0.4054651081081644, error = 0.001826558558502278\n",
            "7 terms: Taylor Series approx= 0.4046875, exp calc= 0.4054651081081644, error = 0.0007776081081644071\n",
            "8 terms: Taylor Series approx= 0.40580357142857143, exp calc= 0.4054651081081644, error = 0.0003384633204070453\n",
            "9 terms: Taylor Series approx= 0.40531529017857143, exp calc= 0.4054651081081644, error = 0.0001498179295929547\n",
            "10 terms: Taylor Series approx= 0.4055323040674603, exp calc= 0.4054651081081644, error = 6.719595929594036e-05\n"
          ],
          "name": "stdout"
        }
      ]
    },
    {
      "cell_type": "markdown",
      "metadata": {
        "id": "mpS-qUxomnpY"
      },
      "source": [
        "Vemos que el error disminuye bastante rapido a medida que vamos agregando terminos. Podemos tambien intentar buscar un error máximo e iterar hasta lograr reducir el error al nivel deseado."
      ]
    },
    {
      "cell_type": "code",
      "metadata": {
        "id": "8qYq-t15mnpa",
        "colab": {
          "base_uri": "https://localhost:8080/"
        },
        "outputId": "6accf555-a02d-4f34-9dd5-5ec95a5dc700"
      },
      "source": [
        "x = 1\n",
        "ln1_exp = math.log1p(x)\n",
        "for i in range(1,100):\n",
        "    ln1_approx = func_ln1(x,i)\n",
        "    ln1_error = abs(ln1_approx - ln1_exp)\n",
        "    if ln1_error < 1e-4:\n",
        "        break\n",
        "        \n",
        "print(f'{i} terms: Taylor Series approx= {ln1_approx}, exp calc= {ln1_exp}, error = {ln1_error}')"
      ],
      "execution_count": null,
      "outputs": [
        {
          "output_type": "stream",
          "text": [
            "51 terms: Taylor Series approx= 0.6832471605759183, exp calc= 0.6931471805599453, error = 0.009900019984027009\n"
          ],
          "name": "stdout"
        }
      ]
    },
    {
      "cell_type": "markdown",
      "metadata": {
        "id": "0G2aaBQv9jGV"
      },
      "source": [
        "Para la serie de Taylor para $f(x) = \\ln (1+x)$ sobre $c=0$ (Maclaurin) \n",
        "\n",
        "$$ E_n = \\left\\lvert \\frac{f^{(n)}(\\xi)}{n!}(x-c)^{n} \\right\\rvert = \\left\\lvert \\frac{(-1)^{n-1}(n-1)!}{n!(1+\\xi)^n}x^{n} \\right\\rvert =  \\left\\lvert \\frac{(-1)^{n-1}}{n(1+\\xi)^n}x^{n} \\right\\rvert \\le \\left\\lvert \\frac{(-1)^{n-1}}{n(1+x)^n}x^{n} \\right\\rvert, $$\n",
        "\n",
        "dado que si queremos $E_n \\le \\epsilon$ necesitamos un $n$ que cumpla: \n",
        "\n",
        "$$ \\left\\lvert\\frac{(-1)^{n-1}}{n(1+x)^n}x^{n} \\right\\rvert < \\epsilon$$ \n",
        "\n",
        "porque $e^x \\ge e^\\xi$, para  $0 \\le \\xi \\le x$."
      ]
    },
    {
      "cell_type": "markdown",
      "metadata": {
        "id": "ztSGjZzOmnpg"
      },
      "source": [
        "Podemos ahora comparar la función teórica con la aproximada con un número mayor de terminos en la serie."
      ]
    },
    {
      "cell_type": "code",
      "metadata": {
        "id": "VG8E8OVQmnpi",
        "colab": {
          "base_uri": "https://localhost:8080/",
          "height": 269
        },
        "outputId": "c75c2db1-855f-44f1-b451-174f61baef23"
      },
      "source": [
        "values = np.arange(-0.9,3.9,0.1)\n",
        "teo_vals = np.log(values+1)\n",
        "\n",
        "fig, ax = plt.subplots()\n",
        "ax.plot(values,teo_vals)\n",
        "\n",
        "# add lines for between 1 and 6 terms in the Taylor Series\n",
        "for i in range(1,10):\n",
        "    aprox_vals = [func_ln1(value,i) for value in values]\n",
        "    ax.plot(values,aprox_vals)\n",
        "\n",
        "ax.set_ylim([-1,4])\n",
        "\n",
        "# set up legend\n",
        "legend_lst = ['ln(x+1) function']\n",
        "for i in range(1,10):\n",
        "    legend_lst.append(f'{i} terms')\n",
        "ax.legend(legend_lst, loc=2)\n",
        "\n",
        "plt.show()"
      ],
      "execution_count": null,
      "outputs": [
        {
          "output_type": "display_data",
          "data": {
            "image/png": "[encoded data removed]",
            "text/plain": [
              "<Figure size 432x288 with 1 Axes>"
            ]
          },
          "metadata": {
            "tags": [],
            "needs_background": "light"
          }
        }
      ]
    },
    {
      "cell_type": "markdown",
      "metadata": {
        "id": "5O-LitGFtUzo"
      },
      "source": [
        "## $\\ln x$"
      ]
    },
    {
      "cell_type": "markdown",
      "metadata": {
        "id": "3auBbE-rtUz4"
      },
      "source": [
        "Creamos una función que retorna el valor aproximado de la función ***ln(x)*** para un valor x utilizando n terminos de la Serie de Taylor."
      ]
    },
    {
      "cell_type": "code",
      "metadata": {
        "id": "peM5X09TtU0A"
      },
      "source": [
        "def func_ln(x, n):\n",
        "    ln_approx = 0\n",
        "    for i in range(1,n):\n",
        "        ln_approx += (-1)**(i-1)*(x-1)**i/i\n",
        "    \n",
        "    return ln_approx"
      ],
      "execution_count": null,
      "outputs": []
    },
    {
      "cell_type": "code",
      "metadata": {
        "id": "SuCv9oh6tU0Q",
        "colab": {
          "base_uri": "https://localhost:8080/"
        },
        "outputId": "b50ecec5-cb9d-4d7e-df6c-f1d1b1b4fda9"
      },
      "source": [
        "x = 2\n",
        "for i in range(1,11):\n",
        "    ln_approx = func_ln(x,i)\n",
        "    ln_exp = math.log1p(x-1)\n",
        "    ln_error = abs(ln_approx - ln_exp)\n",
        "    print(f'{i} terms: Taylor Series approx= {ln_approx}, exp calc= {ln_exp}, error = {ln_error}')"
      ],
      "execution_count": null,
      "outputs": [
        {
          "output_type": "stream",
          "text": [
            "1 terms: Taylor Series approx= 0, exp calc= 0.6931471805599453, error = 0.6931471805599453\n",
            "2 terms: Taylor Series approx= 1.0, exp calc= 0.6931471805599453, error = 0.3068528194400547\n",
            "3 terms: Taylor Series approx= 0.5, exp calc= 0.6931471805599453, error = 0.1931471805599453\n",
            "4 terms: Taylor Series approx= 0.8333333333333333, exp calc= 0.6931471805599453, error = 0.14018615277338797\n",
            "5 terms: Taylor Series approx= 0.5833333333333333, exp calc= 0.6931471805599453, error = 0.10981384722661203\n",
            "6 terms: Taylor Series approx= 0.7833333333333332, exp calc= 0.6931471805599453, error = 0.09018615277338793\n",
            "7 terms: Taylor Series approx= 0.6166666666666666, exp calc= 0.6931471805599453, error = 0.0764805138932787\n",
            "8 terms: Taylor Series approx= 0.7595238095238095, exp calc= 0.6931471805599453, error = 0.0663766289638642\n",
            "9 terms: Taylor Series approx= 0.6345238095238095, exp calc= 0.6931471805599453, error = 0.058623371036135796\n",
            "10 terms: Taylor Series approx= 0.7456349206349207, exp calc= 0.6931471805599453, error = 0.052487740074975364\n"
          ],
          "name": "stdout"
        }
      ]
    },
    {
      "cell_type": "markdown",
      "metadata": {
        "id": "m7P0cEVHtU0a"
      },
      "source": [
        "Vemos que el error disminuye bastante rapido a medida que vamos agregando terminos. Podemos tambien intentar buscar un error máximo e iterar hasta lograr reducir el error al nivel deseado."
      ]
    },
    {
      "cell_type": "code",
      "metadata": {
        "id": "x1Sd7ivjtU0c",
        "colab": {
          "base_uri": "https://localhost:8080/"
        },
        "outputId": "4bfa3c01-08df-4ad6-e057-11303df0044e"
      },
      "source": [
        "x = 2\n",
        "ln_exp = math.log1p(x-1)\n",
        "for i in range(1,60):\n",
        "    ln_approx = func_ln(x,i)\n",
        "    ln_error = abs(ln_approx - ln_exp)\n",
        "    if ln_error < 1e-4:\n",
        "        break\n",
        "        \n",
        "print(f'{i} terms: Taylor Series approx= {ln_approx}, exp calc= {ln_exp}, error = {ln_error}')"
      ],
      "execution_count": null,
      "outputs": [
        {
          "output_type": "stream",
          "text": [
            "51 terms: Taylor Series approx= 0.6832471605759183, exp calc= 0.6931471805599453, error = 0.009900019984027009\n"
          ],
          "name": "stdout"
        }
      ]
    },
    {
      "cell_type": "markdown",
      "metadata": {
        "id": "wWy5M3yLDpPz"
      },
      "source": [
        "Para la serie de Taylor para $f(x) = \\ln x$ sobre $c=0$ (Maclaurin) \n",
        "\n",
        "$$ E_n = \\left\\lvert \\frac{f^{(n)}(\\xi)}{n!}(x-c)^{n} \\right\\rvert = \\left\\lvert \\frac{(-1)^{n-1}(n-1)!}{n!\\cdot\\xi^n}(x-1)^{n} \\right\\rvert =  \\left\\lvert \\frac{(-1)^{n-1}}{n\\cdot\\xi^n}(x-1)^{n} \\right\\rvert \\le \\left\\lvert \\frac{(-1)^{n-1}}{n\\cdot x^n}(x-1)^{n} \\right\\rvert, $$\n",
        "\n",
        "dado que si queremos $E_n \\le \\epsilon$ necesitamos un $n$ que cumpla: \n",
        "\n",
        "$$ \\left\\lvert\\frac{(-1)^{n-1}}{n\\cdot x^n}(x-1)^{n} \\right\\rvert < \\epsilon$$ \n",
        "\n",
        "porque $e^x \\ge e^\\xi$, para  $0 \\le \\xi \\le x$."
      ]
    },
    {
      "cell_type": "markdown",
      "metadata": {
        "id": "rl5MrhYUtU0k"
      },
      "source": [
        "Podemos ahora comparar la función teórica con la aproximada con un número mayor de terminos en la serie."
      ]
    },
    {
      "cell_type": "code",
      "metadata": {
        "id": "kLyVVyx8tU0m",
        "colab": {
          "base_uri": "https://localhost:8080/",
          "height": 269
        },
        "outputId": "d53e3728-3b0a-4f64-f307-a5b4e756eaf2"
      },
      "source": [
        "values = np.arange(0.1,4.9,0.1)\n",
        "teo_vals = np.log(values)\n",
        "\n",
        "fig, ax = plt.subplots()\n",
        "ax.plot(values,teo_vals)\n",
        "\n",
        "# add lines for between 1 and 6 terms in the Taylor Series\n",
        "for i in range(1,10):\n",
        "    aprox_vals = [func_ln(value,i) for value in values]\n",
        "    ax.plot(values,aprox_vals)\n",
        "\n",
        "ax.set_ylim([-1,4])\n",
        "\n",
        "# set up legend\n",
        "legend_lst = ['ln(x) function']\n",
        "for i in range(1,10):\n",
        "    legend_lst.append(f'{i} terms')\n",
        "ax.legend(legend_lst, loc=2)\n",
        "\n",
        "plt.show()"
      ],
      "execution_count": null,
      "outputs": [
        {
          "output_type": "display_data",
          "data": {
            "image/png": "[encoded data removed]",
            "text/plain": [
              "<Figure size 432x288 with 1 Axes>"
            ]
          },
          "metadata": {
            "tags": [],
            "needs_background": "light"
          }
        }
      ]
    }
  ]
}