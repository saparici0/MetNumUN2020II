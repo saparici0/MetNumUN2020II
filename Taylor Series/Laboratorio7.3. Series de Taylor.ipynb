{
  "nbformat": 4,
  "nbformat_minor": 0,
  "metadata": {
    "colab": {
      "name": "Laboratorio7.3. Series de Taylor",
      "provenance": [],
      "collapsed_sections": []
    },
    "kernelspec": {
      "name": "python3",
      "display_name": "Python 3"
    }
  },
  "cells": [
    {
      "cell_type": "markdown",
      "metadata": {
        "id": "dxZpbdrHuddc"
      },
      "source": [
        "# Laboratorio 7. Series de Taylor. Error.\n",
        "\n",
        "Nombre: Simón Aparicio Bocanegra"
      ]
    },
    {
      "cell_type": "markdown",
      "metadata": {
        "id": "FETOuUZKu5oB"
      },
      "source": [
        "En este notebook vamos a analizar el error generado al calcular alguna función utilizando Series de Taylor.\n",
        "\n",
        "Una Serie de Taylor es una serie infinita de terminos matematicas que sumada aproxima una función matemática.\n",
        "\n",
        "\n",
        "Aquí tenemos una lista de funciones y las Series de Taylor que las aproximan.\n",
        "\n",
        "| FUNCIÓN MATEMÁTICA         | INICIO DE SERIE DE TAYLOR EXPANDIDA         | FORMULA SERIE DE TAYLOR |\n",
        "| :----------------------:   | :-----------------------------------------: | :--:|\n",
        "| $e^x=$                     | ${\\small 1+x}+\\frac{x^2}{2!}+\\frac{x^3}{3!}\\cdots=$ | $$ \\sum_{k=0}^{\\infty} \\frac{x^k}{k!} $$ |\n",
        "| $\\sin x=$                  | $x-\\frac{x^3}{3!}+\\frac{x^5}{5!}-\\cdots=$   | $$ \\sum_{k=0}^{\\infty} (-1)^k\\frac{x^{2k+1}}{(2k+1)!} $$ |\n",
        "| $\\ln (1+x)=$               | $x-\\frac{x^2}{2}+\\frac{x^3}{3}-\\cdots=$     | $$ \\sum_{k=1}^{\\infty} (-1)^{k-1}\\frac{x^k}{k} $$ |\n"
      ]
    },
    {
      "cell_type": "markdown",
      "metadata": {
        "id": "RpfVmIiBuC-J"
      },
      "source": [
        "# $e^x$"
      ]
    },
    {
      "cell_type": "markdown",
      "metadata": {
        "id": "AlRF-uyCWkds"
      },
      "source": [
        "Queremos calcular la función $e^x$ para dos valores distintos y analizar el error y su relación con el número de terminos usados de la serie. Inciamos con el cálculo de $e^2$. Podemos calcularlo utilizando los primeros terminos de la serie."
      ]
    },
    {
      "cell_type": "code",
      "metadata": {
        "colab": {
          "base_uri": "https://localhost:8080/"
        },
        "id": "FJLrjDEoQDSu",
        "outputId": "8ec940f8-7547-4268-c031-c9a28e95b552"
      },
      "source": [
        "import math\n",
        "\n",
        "x = 2\n",
        "e_to_2 = x**0/math.factorial(0) + x**1/math.factorial(1) + x**2/math.factorial(2) + x**3/math.factorial(3) + x**4/math.factorial(4)\n",
        "print(e_to_2)"
      ],
      "execution_count": null,
      "outputs": [
        {
          "output_type": "stream",
          "text": [
            "7.0\n"
          ],
          "name": "stdout"
        }
      ]
    },
    {
      "cell_type": "markdown",
      "metadata": {
        "id": "SjJ-R4uDcYtr"
      },
      "source": [
        "Si comparamos el valor obtenido con el valor teorico real:"
      ]
    },
    {
      "cell_type": "code",
      "metadata": {
        "colab": {
          "base_uri": "https://localhost:8080/"
        },
        "id": "5CBeApJ_ciXu",
        "outputId": "6697c833-4c97-45d0-a250-aa2e6048140e"
      },
      "source": [
        "print(math.exp(2))"
      ],
      "execution_count": null,
      "outputs": [
        {
          "output_type": "stream",
          "text": [
            "7.38905609893065\n"
          ],
          "name": "stdout"
        }
      ]
    },
    {
      "cell_type": "markdown",
      "metadata": {
        "id": "nq9hKvAXclWj"
      },
      "source": [
        "nos damos cuenta que el valor aproximado esta muy lejos del valor real. Podemos utilizar mas valores en la serie realizando el cálculo usando ciclos."
      ]
    },
    {
      "cell_type": "code",
      "metadata": {
        "colab": {
          "base_uri": "https://localhost:8080/"
        },
        "id": "XHSkrNJrckl1",
        "outputId": "dfbb1faf-65c1-4f23-e29d-f7969eabc6d9"
      },
      "source": [
        "x = 2\n",
        "e_to_2 = 0\n",
        "for i in range(10):\n",
        "    e_to_2 += x**i/math.factorial(i) \n",
        "print(e_to_2)"
      ],
      "execution_count": null,
      "outputs": [
        {
          "output_type": "stream",
          "text": [
            "7.3887125220458545\n"
          ],
          "name": "stdout"
        }
      ]
    },
    {
      "cell_type": "markdown",
      "metadata": {
        "id": "rMjgyBA1eXg-"
      },
      "source": [
        "Podemos analizar el error de mejor manera hallando el $n$ termino de la serie que sea menor que un epsilon deseado."
      ]
    },
    {
      "cell_type": "markdown",
      "metadata": {
        "id": "bQBIPa2Pi1U6"
      },
      "source": [
        "Para la serie de Taylor para $f(x) = e^x$ sobre $c=0$ (Maclaurin) \n",
        "\n",
        "$$ E_n = \\frac{f^{(n)}(\\xi)}{n!}(x-c)^{n} = \\frac{e^\\xi}{n!}x^{n} \\le  \\frac{e^x}{n!}x^{n}, $$\n",
        "\n",
        "dado que si queremos $E_n \\le \\epsilon$ necesitamos un $n$ que cumpla: \n",
        "\n",
        "$$ \\frac{e^x}{n!}x^{n} < \\epsilon$$ \n",
        "\n",
        "porque $e^x \\ge e^\\xi$, para  $0 \\le \\xi \\le x$."
      ]
    },
    {
      "cell_type": "markdown",
      "metadata": {
        "id": "FNcv-S0Aj4Qa"
      },
      "source": [
        "Realizamos el ejercicio con un $x$ con mas distancia al $c$ escogido sobre el cual se calculan los terminos de la serie, esto requerira de un mayor número de terminos que para un $x$ más cercano."
      ]
    },
    {
      "cell_type": "code",
      "metadata": {
        "colab": {
          "base_uri": "https://localhost:8080/"
        },
        "id": "cIhBTPvMj3pP",
        "outputId": "48867fa0-3612-4d6d-e6d1-50e389b22e91"
      },
      "source": [
        "x = 10\n",
        "epsilon = 1e-10\n",
        "\n",
        "for k in range(1000):\n",
        "  if (((math.exp(x)*x**(k)) / math.factorial(k)) < epsilon):\n",
        "    break\n",
        "print(k)\n",
        "\n",
        "e_to_x = 0\n",
        "for i in range(k):\n",
        "    e_to_x += x**i/math.factorial(i)\n",
        "    print(i,'\\t',e_to_x, '\\tdelta\\t', x**i/math.factorial(i))  \n",
        "    \n",
        "print(f'\\n{k} terms: Taylor Series approx= {e_to_x}, exp calc= {math.exp(10)}, error = {((math.exp(x) * x**(k+1)) / math.factorial(k+1)) }')"
      ],
      "execution_count": null,
      "outputs": [
        {
          "output_type": "stream",
          "text": [
            "50\n",
            "0 \t 0 \tdelta\t 1.0\n",
            "1 \t 1.0 \tdelta\t 10.0\n",
            "2 \t 11.0 \tdelta\t 50.0\n",
            "3 \t 61.0 \tdelta\t 166.66666666666666\n",
            "4 \t 227.66666666666666 \tdelta\t 416.6666666666667\n",
            "5 \t 644.3333333333334 \tdelta\t 833.3333333333334\n",
            "6 \t 1477.6666666666667 \tdelta\t 1388.888888888889\n",
            "7 \t 2866.5555555555557 \tdelta\t 1984.126984126984\n",
            "8 \t 4850.68253968254 \tdelta\t 2480.15873015873\n",
            "9 \t 7330.84126984127 \tdelta\t 2755.731922398589\n",
            "10 \t 10086.573192239859 \tdelta\t 2755.731922398589\n",
            "11 \t 12842.305114638448 \tdelta\t 2505.210838544172\n",
            "12 \t 15347.51595318262 \tdelta\t 2087.67569878681\n",
            "13 \t 17435.191651969428 \tdelta\t 1605.9043836821616\n",
            "14 \t 19041.09603565159 \tdelta\t 1147.0745597729724\n",
            "15 \t 20188.170595424563 \tdelta\t 764.7163731819817\n",
            "16 \t 20952.886968606545 \tdelta\t 477.9477332387385\n",
            "17 \t 21430.834701845284 \tdelta\t 281.14572543455205\n",
            "18 \t 21711.980427279836 \tdelta\t 156.19206968586226\n",
            "19 \t 21868.172496965697 \tdelta\t 82.2063524662433\n",
            "20 \t 21950.37884943194 \tdelta\t 41.10317623312165\n",
            "21 \t 21991.482025665064 \tdelta\t 19.572941063391262\n",
            "22 \t 22011.054966728454 \tdelta\t 8.896791392450574\n",
            "23 \t 22019.951758120904 \tdelta\t 3.868170170630684\n",
            "24 \t 22023.819928291534 \tdelta\t 1.6117375710961184\n",
            "25 \t 22025.43166586263 \tdelta\t 0.6446950284384474\n",
            "26 \t 22026.076360891067 \tdelta\t 0.24795962632247975\n",
            "27 \t 22026.32432051739 \tdelta\t 0.09183689863795547\n",
            "28 \t 22026.416157416028 \tdelta\t 0.03279889237069838\n",
            "29 \t 22026.4489563084 \tdelta\t 0.011309962886447717\n",
            "30 \t 22026.460266271286 \tdelta\t 0.003769987628815906\n",
            "31 \t 22026.464036258916 \tdelta\t 0.001216125041553518\n",
            "32 \t 22026.465252383958 \tdelta\t 0.00038003907548547436\n",
            "33 \t 22026.465632423035 \tdelta\t 0.0001151633562077195\n",
            "34 \t 22026.46574758639 \tdelta\t 3.3871575355211616e-05\n",
            "35 \t 22026.465781457966 \tdelta\t 9.677592958631891e-06\n",
            "36 \t 22026.465791135557 \tdelta\t 2.6882202662866364e-06\n",
            "37 \t 22026.465793823776 \tdelta\t 7.265460179153071e-07\n",
            "38 \t 22026.46579455032 \tdelta\t 1.9119632050402818e-07\n",
            "39 \t 22026.465794741518 \tdelta\t 4.9024697565135436e-08\n",
            "40 \t 22026.465794790543 \tdelta\t 1.2256174391283859e-08\n",
            "41 \t 22026.4657948028 \tdelta\t 2.9893108271424046e-09\n",
            "42 \t 22026.46579480579 \tdelta\t 7.11740673129144e-10\n",
            "43 \t 22026.465794806503 \tdelta\t 1.6552108677421953e-10\n",
            "44 \t 22026.465794806667 \tdelta\t 3.761842881232262e-11\n",
            "45 \t 22026.465794806703 \tdelta\t 8.359650847182803e-12\n",
            "46 \t 22026.46579480671 \tdelta\t 1.817315401561479e-12\n",
            "47 \t 22026.46579480671 \tdelta\t 3.866628513960594e-13\n",
            "48 \t 22026.46579480671 \tdelta\t 8.055476070751238e-14\n",
            "49 \t 22026.46579480671 \tdelta\t 1.643974708316579e-14\n",
            "\n",
            "50 terms: Taylor Series approx= 22026.46579480671, exp calc= 22026.465794806718, error = 1.4200373600102935e-11\n"
          ],
          "name": "stdout"
        }
      ]
    },
    {
      "cell_type": "markdown",
      "metadata": {
        "id": "fHv7k9mrl3By"
      },
      "source": [
        "Podemos notar que para hallar el error necesitamos una función que calcule la función exponencial, obteniendo una contradicción si suponenemos que no tenemos acceso a dicha función. Podemos acotar el error por otro termino que podamos calcular.\n",
        "\n",
        "$$ \\frac{e^x}{n!}x^{n} < \\frac{3^x}{n!}x^{n} < \\epsilon$$ \n",
        "\n",
        "Realizado el cálculo del error con esta nueva expresión obtenemos: "
      ]
    },
    {
      "cell_type": "code",
      "metadata": {
        "colab": {
          "base_uri": "https://localhost:8080/"
        },
        "id": "cPhWNberl2aI",
        "outputId": "63b68d36-90bf-4f67-a318-1a136b6166eb"
      },
      "source": [
        "x = 10\n",
        "epsilon = 1e-10\n",
        "\n",
        "for k in range(1000):\n",
        "  if (((3**x)*(x**k)) / math.factorial(k)) < epsilon:\n",
        "    break\n",
        "print(k)\n",
        "\n",
        "e_to_x = 0\n",
        "for i in range(k):\n",
        "    e_to_x += x**i/math.factorial(i) \n",
        "    print(i,'\\t',e_to_x, '\\tdelta\\t', x**i/math.factorial(i))\n",
        "    \n",
        "    \n",
        "print(f'\\n{k} terms: Taylor Series approx= {e_to_x}, exp calc= {math.exp(10)}, error = {((math.exp(x) * x**(k+1)) / math.factorial(k+1)) }')"
      ],
      "execution_count": null,
      "outputs": [
        {
          "output_type": "stream",
          "text": [
            "51\n",
            "0 \t 0 \tdelta\t 1.0\n",
            "1 \t 1.0 \tdelta\t 10.0\n",
            "2 \t 11.0 \tdelta\t 50.0\n",
            "3 \t 61.0 \tdelta\t 166.66666666666666\n",
            "4 \t 227.66666666666666 \tdelta\t 416.6666666666667\n",
            "5 \t 644.3333333333334 \tdelta\t 833.3333333333334\n",
            "6 \t 1477.6666666666667 \tdelta\t 1388.888888888889\n",
            "7 \t 2866.5555555555557 \tdelta\t 1984.126984126984\n",
            "8 \t 4850.68253968254 \tdelta\t 2480.15873015873\n",
            "9 \t 7330.84126984127 \tdelta\t 2755.731922398589\n",
            "10 \t 10086.573192239859 \tdelta\t 2755.731922398589\n",
            "11 \t 12842.305114638448 \tdelta\t 2505.210838544172\n",
            "12 \t 15347.51595318262 \tdelta\t 2087.67569878681\n",
            "13 \t 17435.191651969428 \tdelta\t 1605.9043836821616\n",
            "14 \t 19041.09603565159 \tdelta\t 1147.0745597729724\n",
            "15 \t 20188.170595424563 \tdelta\t 764.7163731819817\n",
            "16 \t 20952.886968606545 \tdelta\t 477.9477332387385\n",
            "17 \t 21430.834701845284 \tdelta\t 281.14572543455205\n",
            "18 \t 21711.980427279836 \tdelta\t 156.19206968586226\n",
            "19 \t 21868.172496965697 \tdelta\t 82.2063524662433\n",
            "20 \t 21950.37884943194 \tdelta\t 41.10317623312165\n",
            "21 \t 21991.482025665064 \tdelta\t 19.572941063391262\n",
            "22 \t 22011.054966728454 \tdelta\t 8.896791392450574\n",
            "23 \t 22019.951758120904 \tdelta\t 3.868170170630684\n",
            "24 \t 22023.819928291534 \tdelta\t 1.6117375710961184\n",
            "25 \t 22025.43166586263 \tdelta\t 0.6446950284384474\n",
            "26 \t 22026.076360891067 \tdelta\t 0.24795962632247975\n",
            "27 \t 22026.32432051739 \tdelta\t 0.09183689863795547\n",
            "28 \t 22026.416157416028 \tdelta\t 0.03279889237069838\n",
            "29 \t 22026.4489563084 \tdelta\t 0.011309962886447717\n",
            "30 \t 22026.460266271286 \tdelta\t 0.003769987628815906\n",
            "31 \t 22026.464036258916 \tdelta\t 0.001216125041553518\n",
            "32 \t 22026.465252383958 \tdelta\t 0.00038003907548547436\n",
            "33 \t 22026.465632423035 \tdelta\t 0.0001151633562077195\n",
            "34 \t 22026.46574758639 \tdelta\t 3.3871575355211616e-05\n",
            "35 \t 22026.465781457966 \tdelta\t 9.677592958631891e-06\n",
            "36 \t 22026.465791135557 \tdelta\t 2.6882202662866364e-06\n",
            "37 \t 22026.465793823776 \tdelta\t 7.265460179153071e-07\n",
            "38 \t 22026.46579455032 \tdelta\t 1.9119632050402818e-07\n",
            "39 \t 22026.465794741518 \tdelta\t 4.9024697565135436e-08\n",
            "40 \t 22026.465794790543 \tdelta\t 1.2256174391283859e-08\n",
            "41 \t 22026.4657948028 \tdelta\t 2.9893108271424046e-09\n",
            "42 \t 22026.46579480579 \tdelta\t 7.11740673129144e-10\n",
            "43 \t 22026.465794806503 \tdelta\t 1.6552108677421953e-10\n",
            "44 \t 22026.465794806667 \tdelta\t 3.761842881232262e-11\n",
            "45 \t 22026.465794806703 \tdelta\t 8.359650847182803e-12\n",
            "46 \t 22026.46579480671 \tdelta\t 1.817315401561479e-12\n",
            "47 \t 22026.46579480671 \tdelta\t 3.866628513960594e-13\n",
            "48 \t 22026.46579480671 \tdelta\t 8.055476070751238e-14\n",
            "49 \t 22026.46579480671 \tdelta\t 1.643974708316579e-14\n",
            "50 \t 22026.46579480671 \tdelta\t 3.287949416633158e-15\n",
            "\n",
            "51 terms: Taylor Series approx= 22026.46579480671, exp calc= 22026.465794806718, error = 2.730841076942872e-12\n"
          ],
          "name": "stdout"
        }
      ]
    },
    {
      "cell_type": "markdown",
      "metadata": {
        "id": "mb6VdIP4oKUt"
      },
      "source": [
        "Observamos que con el calculo del error usando la función $3^x$ necesitamos de un termino adicional. Otra forma de calcular el error sería:"
      ]
    },
    {
      "cell_type": "code",
      "metadata": {
        "colab": {
          "base_uri": "https://localhost:8080/"
        },
        "id": "11or_MOboJ4i",
        "outputId": "e357bee8-23a8-4f63-9773-616598aca7ce"
      },
      "source": [
        "x = 10\n",
        "epsilon = 1e-10\n",
        "delta = 1\n",
        "e_to_x = 0\n",
        "i = 0\n",
        "while  epsilon <= delta:\n",
        "  delta = x**i/math.factorial(i) \n",
        "  e_to_x += delta\n",
        "  i = i+1\n",
        "print(i-1) \n",
        "print('e_to_x = ',e_to_x)    \n",
        "print('math.exp(10) = ',math.exp(10))"
      ],
      "execution_count": null,
      "outputs": [
        {
          "output_type": "stream",
          "text": [
            "44\n",
            "e_to_x =  22026.465794806703\n",
            "math.exp(10) =  22026.465794806718\n"
          ],
          "name": "stdout"
        }
      ]
    },
    {
      "cell_type": "markdown",
      "metadata": {
        "id": "ks1JDSYrv-4I"
      },
      "source": [
        "# $\\sin x$"
      ]
    },
    {
      "cell_type": "markdown",
      "metadata": {
        "id": "_oMOzU_Gwr8c"
      },
      "source": [
        "Intentemos calcular el valor de $\\sin(\\frac{\\pi}{2})$ utilizando ciclos y la serie de Taylor y comparemos el valor obtenido con el teórico. "
      ]
    },
    {
      "cell_type": "code",
      "metadata": {
        "colab": {
          "base_uri": "https://localhost:8080/"
        },
        "id": "bDC8XlBMv-4L",
        "outputId": "5596ef41-12d3-43ce-b969-caa7a2244b30"
      },
      "source": [
        "x = math.pi/2\n",
        "sin_pi_2 = 0\n",
        "for i in range(10):\n",
        "    sin_pi_2 += (-1)**i*x**(2*i+1)/math.factorial(2*i+1) \n",
        "print(sin_pi_2)"
      ],
      "execution_count": null,
      "outputs": [
        {
          "output_type": "stream",
          "text": [
            "1.0\n"
          ],
          "name": "stdout"
        }
      ]
    },
    {
      "cell_type": "code",
      "metadata": {
        "colab": {
          "base_uri": "https://localhost:8080/"
        },
        "id": "rGxcqP9zxgCJ",
        "outputId": "051135b2-83f2-496d-e104-28df2ed145df"
      },
      "source": [
        "print(math.sin(math.pi/2))"
      ],
      "execution_count": null,
      "outputs": [
        {
          "output_type": "stream",
          "text": [
            "1.0\n"
          ],
          "name": "stdout"
        }
      ]
    },
    {
      "cell_type": "markdown",
      "metadata": {
        "id": "bcQno5nAxdRH"
      },
      "source": [
        "Con los 10 terminos utilizados parece que podemos calcular efectivamente el valor deseado."
      ]
    },
    {
      "cell_type": "markdown",
      "metadata": {
        "id": "D9ku9JRrv-4O"
      },
      "source": [
        "Podemos analizar el error de mejor manera hallando el $n$ termino de la serie que sea menor que un epsilon deseado."
      ]
    },
    {
      "cell_type": "markdown",
      "metadata": {
        "id": "LmIYlCoXv-4O"
      },
      "source": [
        "Para la serie de Taylor para $f(x) = \\sin x$ sobre $c=0$ (Maclaurin) \n",
        "\n",
        "$$ E_n = \\left\\lvert \\frac{f^{(n)}(\\xi)}{n!}(x-c)^{n} \\right\\rvert = \\left\\lvert \\frac{(-1)^{\\frac{n-1}{2}}\\cos\\xi}{n!}x^{n} \\right\\rvert \\le \\left\\lvert \\frac{(-1)^{\\frac{n-1}{2}}\\cos x}{n!}x^{n} \\right\\rvert ,\\text{para un $n$ impar} $$\n",
        "\n",
        "dado que si queremos $E_n \\le \\epsilon$ necesitamos un $n$ que cumpla: \n",
        "\n",
        "$$ \\left\\lvert\\frac{(-1)^{\\frac{n-1}{2}}\\cos x}{n!}x^{n} \\right\\rvert < \\epsilon$$ \n",
        "\n",
        "porque $e^x \\ge e^\\xi$, para  $0 \\le \\xi \\le x$."
      ]
    },
    {
      "cell_type": "markdown",
      "metadata": {
        "id": "oujv6b8Sv-4O"
      },
      "source": [
        "Realizamos el ejercicio con un $x$ con mas distancia al $c$ escogido sobre el cual se calculan los terminos de la serie, esto requerira de un mayor número de terminos que para un $x$ más cercano."
      ]
    },
    {
      "cell_type": "code",
      "metadata": {
        "colab": {
          "base_uri": "https://localhost:8080/"
        },
        "id": "0lxVuF3ov-4O",
        "outputId": "1e271248-18da-4278-bc37-81a1c3d7d6b1"
      },
      "source": [
        "x = 15*math.pi/16\n",
        "epsilon = 1e-10\n",
        "\n",
        "for k in range(1,1000,2):\n",
        "  if abs(math.cos(x)*(x**k)/math.factorial(k)) < epsilon:\n",
        "    break\n",
        "print(k)\n",
        "\n",
        "sin_x = 0\n",
        "for i in range(1,k,2):\n",
        "    sin_x += (-1)**((i-1)/2)*x**i/math.factorial(i)\n",
        "    print(i,'\\t',sin_x, '\\tdelta\\t',abs(x**i/math.factorial(i)))\n",
        "    \n",
        "    \n",
        "print(f'\\n{k} terms: Taylor Series approx= {sin_x}, exp calc= {math.sin(x)}, error = {abs(math.cos(x)*x**k/math.factorial(k)) }')"
      ],
      "execution_count": null,
      "outputs": [
        {
          "output_type": "stream",
          "text": [
            "23\n",
            "1 \t 2.945243112740431 \tdelta\t 2.945243112740431\n",
            "3 \t -1.3128210065634374 \tdelta\t -4.258064119303868\n",
            "5 \t 0.5339986972843125 \tdelta\t 1.8468197038477498\n",
            "7 \t 0.15256636168621762 \tdelta\t -0.38143233559809486\n",
            "9 \t 0.19852078378261348 \tdelta\t 0.045954422096395865\n",
            "11 \t 0.19489687779970424 \tdelta\t -0.003623905982909233\n",
            "13 \t 0.1950983868804475 \tdelta\t 0.00020150908074324862\n",
            "15 \t 0.19509006315733018 \tdelta\t -8.32372311731182e-06\n",
            "17 \t 0.1950903286123971 \tdelta\t 2.654550669263519e-07\n",
            "19 \t 0.19509032187941885 \tdelta\t -6.732978250482608e-09\n",
            "21 \t 0.1950903220184782 \tdelta\t 1.3905935778474205e-10\n",
            "\n",
            "23 terms: Taylor Series approx= 0.1950903220184782, exp calc= 0.1950903220161286, error = 2.338115387421299e-12\n"
          ],
          "name": "stdout"
        }
      ]
    },
    {
      "cell_type": "markdown",
      "metadata": {
        "id": "bfBoV0-6v-4P"
      },
      "source": [
        "Podemos notar que para hallar el error necesitamos una función que calcule la función costeno, obteniendo una contradicción si suponenemos que no tenemos acceso a dicha función. Podemos acotar el error por otro termino que podamos calcular.\n",
        "\n",
        "$$ \\left\\lvert \\frac{(-1)^{\\frac{n-1}{2}}\\cos x}{n!}x^{n} \\right\\rvert \\le \\left\\lvert \\frac{(-1)^{\\frac{n-1}{2}}}{n!}x^{n} \\right\\rvert < \\epsilon$$ \n",
        "\n",
        "Realizado el cálculo del error con esta nueva expresión obtenemos: "
      ]
    },
    {
      "cell_type": "code",
      "metadata": {
        "colab": {
          "base_uri": "https://localhost:8080/"
        },
        "id": "C7S60P3pv-4P",
        "outputId": "3d491d72-5a11-439b-c6b3-10d92bc2c119"
      },
      "source": [
        "x = 15*math.pi/16\n",
        "epsilon = 1e-10\n",
        "\n",
        "for k in range(1,1000,2):\n",
        "  if abs((x**k)/math.factorial(k)) < epsilon:\n",
        "    break\n",
        "print(k)\n",
        "\n",
        "sin_x = 0\n",
        "for i in range(1,k,2):\n",
        "    sin_x += (-1)**((i-1)/2)*x**i/math.factorial(i)\n",
        "    print(i,'\\t',sin_x, '\\tdelta\\t',abs(x**i/math.factorial(i)))\n",
        "    \n",
        "    \n",
        "print(f'\\n{k} terms: Taylor Series approx= {sin_x}, exp calc= {math.sin(x)}, error = {abs(math.cos(x)*x**k/math.factorial(k)) }')"
      ],
      "execution_count": null,
      "outputs": [
        {
          "output_type": "stream",
          "text": [
            "23\n",
            "1 \t 2.945243112740431 \tdelta\t 2.945243112740431\n",
            "3 \t -1.3128210065634374 \tdelta\t 4.258064119303868\n",
            "5 \t 0.5339986972843125 \tdelta\t 1.8468197038477498\n",
            "7 \t 0.15256636168621762 \tdelta\t 0.38143233559809486\n",
            "9 \t 0.19852078378261348 \tdelta\t 0.045954422096395865\n",
            "11 \t 0.19489687779970424 \tdelta\t 0.003623905982909233\n",
            "13 \t 0.1950983868804475 \tdelta\t 0.00020150908074324862\n",
            "15 \t 0.19509006315733018 \tdelta\t 8.32372311731182e-06\n",
            "17 \t 0.1950903286123971 \tdelta\t 2.654550669263519e-07\n",
            "19 \t 0.19509032187941885 \tdelta\t 6.732978250482608e-09\n",
            "21 \t 0.1950903220184782 \tdelta\t 1.3905935778474205e-10\n",
            "\n",
            "23 terms: Taylor Series approx= 0.1950903220184782, exp calc= 0.1950903220161286, error = 2.338115387421299e-12\n"
          ],
          "name": "stdout"
        }
      ]
    },
    {
      "cell_type": "markdown",
      "metadata": {
        "id": "zzhl2Dnuv-4Q"
      },
      "source": [
        "Observamos que el calculo del error reemplazando $\\cos x$ con $1$ se realiza con el mismo número de terminos. Otra forma de calcular el error sería:"
      ]
    },
    {
      "cell_type": "code",
      "metadata": {
        "colab": {
          "base_uri": "https://localhost:8080/"
        },
        "id": "ieSwKZBkv-4Q",
        "outputId": "f379db40-b604-45c3-9e9b-bfeaad7d0f83"
      },
      "source": [
        "x = 15*math.pi/16\n",
        "epsilon = 1e-10\n",
        "delta = 1\n",
        "sin_x = 0\n",
        "i = 1\n",
        "while  epsilon <= abs(delta):\n",
        "    delta = (-1)**((i-1)/2)*x**i/math.factorial(i)\n",
        "    sin_x += delta\n",
        "    i = i+2\n",
        "print(i-1) \n",
        "print('sin_x = ',sin_x)    \n",
        "print('math.sin(15*math.pi/16) = ', math.sin(15*math.pi/16))"
      ],
      "execution_count": null,
      "outputs": [
        {
          "output_type": "stream",
          "text": [
            "24\n",
            "sin_x =  0.19509032201609428\n",
            "math.sin(15*math.pi/16) =  0.1950903220161286\n"
          ],
          "name": "stdout"
        }
      ]
    },
    {
      "cell_type": "markdown",
      "metadata": {
        "id": "GNrs19UPSsiE"
      },
      "source": [
        "# $\\ln(x+1)$"
      ]
    },
    {
      "cell_type": "markdown",
      "metadata": {
        "id": "UTs_EyLbSsiF"
      },
      "source": [
        "Intentemos calcular el valor de $\\ln 1.5$ utilizando ciclos y la serie de Taylor y comparemos el valor obtenido con el teórico. "
      ]
    },
    {
      "cell_type": "code",
      "metadata": {
        "colab": {
          "base_uri": "https://localhost:8080/"
        },
        "id": "vckhjwfPSsiG",
        "outputId": "eca3948f-f2ff-4ba6-ab18-65bb95676045"
      },
      "source": [
        "x = 0.5\n",
        "ln_1_5 = 0\n",
        "for i in range(1,10):\n",
        "    ln_1_5 += (-1)**(i-1)*x**i/i \n",
        "print(ln_1_5)"
      ],
      "execution_count": null,
      "outputs": [
        {
          "output_type": "stream",
          "text": [
            "0.4055323040674603\n"
          ],
          "name": "stdout"
        }
      ]
    },
    {
      "cell_type": "code",
      "metadata": {
        "colab": {
          "base_uri": "https://localhost:8080/"
        },
        "id": "4RoDWLzbSsiN",
        "outputId": "6bfcb3f7-561e-422f-bd7b-4c6e57515740"
      },
      "source": [
        "print(math.log1p(x))"
      ],
      "execution_count": null,
      "outputs": [
        {
          "output_type": "stream",
          "text": [
            "0.4054651081081644\n"
          ],
          "name": "stdout"
        }
      ]
    },
    {
      "cell_type": "markdown",
      "metadata": {
        "id": "4uUssFqNSsiN"
      },
      "source": [
        "Con los 10 terminos utilizados parece que podemos calcular con tres decimas de exactitud el valor deseado."
      ]
    },
    {
      "cell_type": "markdown",
      "metadata": {
        "id": "9RixeNRHSsiO"
      },
      "source": [
        "Podemos analizar el error de mejor manera hallando el $n$ termino de la serie que sea menor que un epsilon deseado."
      ]
    },
    {
      "cell_type": "markdown",
      "metadata": {
        "id": "0l764oTZSsiO"
      },
      "source": [
        "Para la serie de Taylor para $f(x) = \\ln (1+x)$ sobre $c=0$ (Maclaurin) \n",
        "\n",
        "$$ E_n = \\left\\lvert \\frac{f^{(n)}(\\xi)}{n!}(x-c)^{n} \\right\\rvert = \\left\\lvert \\frac{(-1)^{n-1}(n-1)!}{n!(1+\\xi)^n}x^{n} \\right\\rvert =  \\left\\lvert \\frac{(-1)^{n-1}}{n(1+\\xi)^n}x^{n} \\right\\rvert \\le \\left\\lvert \\frac{(-1)^{n-1}}{n}x^{n} \\right\\rvert $$\n",
        "\n",
        "dado que si queremos $E_n \\le \\epsilon$ necesitamos un $n$ que cumpla: \n",
        "\n",
        "$$ \\left\\lvert\\frac{(-1)^{n-1}}{n}x^{n}  \\right\\rvert < \\epsilon$$ \n",
        "\n",
        "porque $e^x \\ge e^\\xi$, para  $0 \\le \\xi \\le x$."
      ]
    },
    {
      "cell_type": "markdown",
      "metadata": {
        "id": "RTSBtR5CSsiO"
      },
      "source": [
        "Realizamos el ejercicio con un $x$ con mas distancia al $c$ escogido sobre el cual se calculan los terminos de la serie, esto requerira de un mayor número de terminos que para un $x$ más cercano."
      ]
    },
    {
      "cell_type": "code",
      "metadata": {
        "colab": {
          "base_uri": "https://localhost:8080/"
        },
        "id": "q9fjVAEZSsiP",
        "outputId": "b64d73b8-7f58-4c3b-a7fe-e8c71bc7ff78"
      },
      "source": [
        "x = 0.7\n",
        "epsilon = 1e-10\n",
        "\n",
        "for k in range(1,1000):\n",
        "    if abs((x**k)/(k)) < epsilon:\n",
        "        break\n",
        "print(k)\n",
        "\n",
        "ln_x_1 = 0\n",
        "for i in range(1,k):\n",
        "    ln_x_1 += (-1)**(i-1)*(x**i)/i\n",
        "    print(i,'\\t',ln_x_1, '\\tdelta\\t',((-1)**(i-1)*x**i/i))\n",
        "    \n",
        "    \n",
        "print(f'\\n{k} terms: Taylor Series approx= {ln_x_1}, exp calc= {math.log1p(x)}, error = {abs((x**k)/(k)) }')"
      ],
      "execution_count": null,
      "outputs": [
        {
          "output_type": "stream",
          "text": [
            "54\n",
            "1 \t 0.7 \tdelta\t 0.7\n",
            "2 \t 0.45499999999999996 \tdelta\t -0.24499999999999997\n",
            "3 \t 0.5693333333333332 \tdelta\t 0.1143333333333333\n",
            "4 \t 0.5093083333333333 \tdelta\t -0.06002499999999999\n",
            "5 \t 0.5429223333333333 \tdelta\t 0.03361399999999999\n",
            "6 \t 0.5233141666666666 \tdelta\t -0.01960816666666666\n",
            "7 \t 0.5350790666666666 \tdelta\t 0.011764899999999995\n",
            "8 \t 0.5278730654166666 \tdelta\t -0.0072060012499999965\n",
            "9 \t 0.5323567995277777 \tdelta\t 0.004483734111111109\n",
            "10 \t 0.5295320470377777 \tdelta\t -0.0028247524899999983\n",
            "11 \t 0.5313296168041413 \tdelta\t 0.0017975697663636353\n",
            "12 \t 0.5301761762040579 \tdelta\t -0.0011534406000833326\n",
            "13 \t 0.5309214762841117 \tdelta\t 0.0007453000800538456\n",
            "14 \t 0.5304370312320766 \tdelta\t -0.0004844450520349996\n",
            "15 \t 0.5307535353327395 \tdelta\t 0.0003165041006628664\n",
            "16 \t 0.5305458295166795 \tdelta\t -0.00020770581606000603\n",
            "17 \t 0.5306826709954955 \tdelta\t 0.00013684147881600395\n",
            "18 \t 0.5305922035733893 \tdelta\t -9.046742210613595e-05\n",
            "19 \t 0.5306521977585755 \tdelta\t 5.999418518617437e-05\n",
            "20 \t 0.5306123016254267 \tdelta\t -3.9896133148805945e-05\n",
            "21 \t 0.5306388990475259 \tdelta\t 2.6597422099203964e-05\n",
            "22 \t 0.5306211271336687 \tdelta\t -1.7771913857195375e-05\n",
            "23 \t 0.530633026589034 \tdelta\t 1.1899455365252556e-05\n",
            "24 \t 0.5306250440377265 \tdelta\t -7.982551307523588e-06\n",
            "25 \t 0.5306304083122051 \tdelta\t 5.364274478655851e-06\n",
            "26 \t 0.5306267977428445 \tdelta\t -3.610569360633746e-06\n",
            "27 \t 0.5306292315340432 \tdelta\t 2.4337911986494137e-06\n",
            "28 \t 0.5306275887249841 \tdelta\t -1.6428090590883541e-06\n",
            "29 \t 0.5306286990373137 \tdelta\t 1.1103123295907495e-06\n",
            "30 \t 0.5306279477259707 \tdelta\t -7.513113430230739e-07\n",
            "31 \t 0.530628456678816 \tdelta\t 5.089528452736952e-07\n",
            "32 \t 0.5306281115451678 \tdelta\t -3.451336482012245e-07\n",
            "33 \t 0.5306283458177047 \tdelta\t 2.342725369608312e-07\n",
            "34 \t 0.530628186650187 \tdelta\t -1.5916751775868234e-07\n",
            "35 \t 0.530628294884099 \tdelta\t 1.0823391207590397e-07\n",
            "36 \t 0.5306282212249088 \tdelta\t -7.365919016276798e-08\n",
            "37 \t 0.5306282713927897 \tdelta\t 5.0167880867614946e-08\n",
            "38 \t 0.5306282371994182 \tdelta\t -3.4193371433453344e-08\n",
            "39 \t 0.530628260521051 \tdelta\t 2.3321632823842536e-08\n",
            "40 \t 0.5306282446040367 \tdelta\t -1.591701440227253e-08\n",
            "41 \t 0.5306282554741929 \tdelta\t 1.0870156177161726e-08\n",
            "42 \t 0.5306282480462529 \tdelta\t -7.4279400543938464e-09\n",
            "43 \t 0.5306282531248909 \tdelta\t 5.078638083701839e-09\n",
            "44 \t 0.5306282496506408 \tdelta\t -3.4742501436233032e-09\n",
            "45 \t 0.530628252028572 \tdelta\t 2.377931209413283e-09\n",
            "46 \t 0.5306282504002061 \tdelta\t -1.628365936880835e-09\n",
            "47 \t 0.5306282515158101 \tdelta\t 1.115603897182189e-09\n",
            "48 \t 0.5306282507511566 \tdelta\t -7.646535045269586e-10\n",
            "49 \t 0.5306282512754904 \tdelta\t 5.243338316756288e-10\n",
            "50 \t 0.5306282509157974 \tdelta\t -3.5969300852948126e-10\n",
            "51 \t 0.5306282511626454 \tdelta\t 2.468481431084675e-10\n",
            "52 \t 0.5306282509931747 \tdelta\t -1.6947074440331329e-10\n",
            "53 \t 0.5306282511095659 \tdelta\t 1.1639122823170948e-10\n",
            "\n",
            "54 terms: Taylor Series approx= 0.5306282511095659, exp calc= 0.5306282510621704, error = 7.996508458141521e-11\n"
          ],
          "name": "stdout"
        }
      ]
    }
  ]
}